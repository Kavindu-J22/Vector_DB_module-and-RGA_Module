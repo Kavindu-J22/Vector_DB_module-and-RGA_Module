{
  "nbformat": 4,
  "nbformat_minor": 0,
  "metadata": {
    "colab": {
      "provenance": [],
      "gpuType": "T4"
    },
    "kernelspec": {
      "name": "python3",
      "display_name": "Python 3"
    },
    "language_info": {
      "name": "python"
    },
    "accelerator": "GPU"
  },
  "cells": [
    {
      "cell_type": "markdown",
      "source": [
        "# 🏛️ Sri Lankan Legal AI Assistant - Google Colab Setup\n",
        "\n",
        "This notebook will help you run the Vector DB Module and RAG Module in Google Colab.\n",
        "\n",
        "## 📋 Before You Start:\n",
        "1. Upload your project zip file to Google Drive\n",
        "2. Get your Pinecone API key and environment\n",
        "3. (Optional) Get your OpenAI API key\n"
      ],
      "metadata": {
        "id": "legal-ai-title"
      }
    },
    {
      "cell_type": "code",
      "source": [
        "# 🔗 Step 1: Mount Google Drive\n",
        "from google.colab import drive\n",
        "import os\n",
        "import sys\n",
        "\n",
        "print(\"📁 Mounting Google Drive...\")\n",
        "drive.mount('/content/drive')\n",
        "print(\"✅ Google Drive mounted successfully!\")"
      ],
      "metadata": {
        "id": "mount-drive"
      },
      "execution_count": null,
      "outputs": []
    },
    {
      "cell_type": "code",
      "source": [
        "# 📦 Step 2: Install Required Packages\n",
        "print(\"📦 Installing required packages...\")\n",
        "\n",
        "!pip install -q streamlit\n",
        "!pip install -q pinecone-client\n",
        "!pip install -q sentence-transformers\n",
        "!pip install -q transformers\n",
        "!pip install -q torch\n",
        "!pip install -q numpy pandas scikit-learn\n",
        "!pip install -q nltk spacy\n",
        "!pip install -q fastapi uvicorn\n",
        "!pip install -q python-multipart pydantic\n",
        "!pip install -q python-dotenv\n",
        "!pip install -q plotly wordcloud matplotlib seaborn\n",
        "!pip install -q pyngrok\n",
        "\n",
        "print(\"✅ All packages installed successfully!\")"
      ],
      "metadata": {
        "id": "install-packages"
      },
      "execution_count": null,
      "outputs": []
    },
    {
      "cell_type": "code",
      "source": [
        "# 📂 Step 3: Extract Project Files\n",
        "import zipfile\n",
        "import shutil\n",
        "\n",
        "# 🔧 CHANGE THIS PATH to your uploaded zip file location\n",
        "ZIP_PATH = '/content/drive/MyDrive/Vector_DB_module and RGA_Module.zip'\n",
        "\n",
        "print(f\"📂 Extracting project from: {ZIP_PATH}\")\n",
        "\n",
        "try:\n",
        "    # Extract the project\n",
        "    with zipfile.ZipFile(ZIP_PATH, 'r') as zip_ref:\n",
        "        zip_ref.extractall('/content/')\n",
        "    \n",
        "    # Change to project directory\n",
        "    project_dir = '/content/Vector_DB_module and RGA_Module'\n",
        "    os.chdir(project_dir)\n",
        "    \n",
        "    # Add to Python path\n",
        "    sys.path.append(project_dir)\n",
        "    sys.path.append(os.path.join(project_dir, 'Vector_DB_module'))\n",
        "    sys.path.append(os.path.join(project_dir, 'RAG_Module'))\n",
        "    \n",
        "    print(\"✅ Project extracted successfully!\")\n",
        "    print(\"📁 Project contents:\")\n",
        "    !ls -la\n",
        "    \n",
        "except FileNotFoundError:\n",
        "    print(\"❌ Zip file not found! Please check the ZIP_PATH variable.\")\n",
        "    print(\"💡 Make sure you've uploaded your project zip to Google Drive.\")\n",
        "except Exception as e:\n",
        "    print(f\"❌ Error extracting project: {e}\")"
      ],
      "metadata": {
        "id": "extract-project"
      },
      "execution_count": null,
      "outputs": []
    },
    {
      "cell_type": "code",
      "source": [
        "# 🔑 Step 4: Setup Environment Variables\n",
        "import os\n",
        "\n",
        "print(\"🔑 Setting up environment variables...\")\n",
        "\n",
        "# 🔧 CHANGE THESE VALUES to your actual API keys\n",
        "PINECONE_API_KEY = 'your-pinecone-api-key-here'\n",
        "PINECONE_ENVIRONMENT = 'your-pinecone-environment-here'\n",
        "OPENAI_API_KEY = 'your-openai-api-key-here'  # Optional\n",
        "\n",
        "# Set environment variables\n",
        "os.environ['PINECONE_API_KEY'] = PINECONE_API_KEY\n",
        "os.environ['PINECONE_ENVIRONMENT'] = PINECONE_ENVIRONMENT\n",
        "os.environ['OPENAI_API_KEY'] = OPENAI_API_KEY\n",
        "\n",
        "# Create .env file\n",
        "env_content = f\"\"\"PINECONE_API_KEY={PINECONE_API_KEY}\n",
        "PINECONE_ENVIRONMENT={PINECONE_ENVIRONMENT}\n",
        "OPENAI_API_KEY={OPENAI_API_KEY}\n",
        "\"\"\"\n",
        "\n",
        "with open('.env', 'w') as f:\n",
        "    f.write(env_content)\n",
        "\n",
        "# Also create in RAG_Module directory\n",
        "with open('RAG_Module/.env', 'w') as f:\n",
        "    f.write(env_content)\n",
        "\n",
        "print(\"✅ Environment variables configured!\")\n",
        "print(\"⚠️  Make sure to replace the placeholder API keys with your actual keys!\")"
      ],
      "metadata": {
        "id": "setup-env"
      },
      "execution_count": null,
      "outputs": []
    },
    {
      "cell_type": "code",
      "source": [
        "# 🗄️ Step 5: Initialize Vector Database (Optional)\n",
        "print(\"🗄️ Checking Vector Database setup...\")\n",
        "\n",
        "try:\n",
        "    os.chdir('/content/Vector_DB_module and RGA_Module/Vector_DB_module')\n",
        "    \n",
        "    # Check if we have legal documents to process\n",
        "    if os.path.exists('legal_documents'):\n",
        "        print(\"📚 Legal documents found. You can run:\")\n",
        "        print(\"   !python main.py\")\n",
        "        print(\"   to process and store documents in the vector database.\")\n",
        "    else:\n",
        "        print(\"📚 No legal_documents folder found.\")\n",
        "        print(\"💡 Add your legal documents to process them into the vector database.\")\n",
        "    \n",
        "    # Go back to project root\n",
        "    os.chdir('/content/Vector_DB_module and RGA_Module')\n",
        "    \n",
        "except Exception as e:\n",
        "    print(f\"⚠️  Vector DB module check failed: {e}\")\n",
        "\n",
        "print(\"✅ Vector Database check completed!\")"
      ],
      "metadata": {
        "id": "check-vectordb"
      },
      "execution_count": null,
      "outputs": []
    },
    {
      "cell_type": "code",
      "source": [
        "# 🚀 Step 6: Launch RAG Module Web Interface\n",
        "from pyngrok import ngrok\n",
        "import subprocess\n",
        "import threading\n",
        "import time\n",
        "\n",
        "print(\"🚀 Starting Sri Lankan Legal AI Assistant...\")\n",
        "\n",
        "# Kill any existing processes\n",
        "!pkill -f streamlit\n",
        "!pkill -f \"python.*app.py\"\n",
        "\n",
        "# Function to run the web app\n",
        "def run_legal_ai():\n",
        "    try:\n",
        "        os.chdir('/content/Vector_DB_module and RGA_Module/RAG_Module')\n",
        "        subprocess.run(['python', 'app.py', 'web'], check=True)\n",
        "    except Exception as e:\n",
        "        print(f\"❌ Error starting app: {e}\")\n",
        "\n",
        "# Start the app in a separate thread\n",
        "app_thread = threading.Thread(target=run_legal_ai)\n",
        "app_thread.daemon = True\n",
        "app_thread.start()\n",
        "\n",
        "print(\"⏳ Waiting for the application to start...\")\n",
        "time.sleep(20)  # Wait for the app to fully start\n",
        "\n",
        "try:\n",
        "    # Create ngrok tunnel for public access\n",
        "    public_url = ngrok.connect(8501)\n",
        "    \n",
        "    print(\"\\n\" + \"=\"*60)\n",
        "    print(\"🎉 Sri Lankan Legal AI Assistant is READY!\")\n",
        "    print(\"=\"*60)\n",
        "    print(f\"🌐 Access your Legal AI Assistant at:\")\n",
        "    print(f\"   {public_url}\")\n",
        "    print(\"=\"*60)\n",
        "    print(\"\\n📋 Features Available:\")\n",
        "    print(\"   ✅ Legal Question Answering\")\n",
        "    print(\"   ✅ Multiple Response Options\")\n",
        "    print(\"   ✅ Example Questions\")\n",
        "    print(\"   ✅ Advanced Search Filters\")\n",
        "    print(\"   ✅ Conversation History\")\n",
        "    print(\"   ✅ Simple Greeting Responses\")\n",
        "    print(\"\\n💡 Tips:\")\n",
        "    print(\"   • Try asking about Sri Lankan property law\")\n",
        "    print(\"   • Use the Example Questions for quick start\")\n",
        "    print(\"   • Check the Advanced Search for specific filters\")\n",
        "    print(\"\\n⚠️  Keep this Colab tab open to maintain the connection!\")\n",
        "    \n",
        "except Exception as e:\n",
        "    print(f\"❌ Error creating public URL: {e}\")\n",
        "    print(\"💡 The app might still be starting. Try running this cell again in a few seconds.\")"
      ],
      "metadata": {
        "id": "launch-app"
      },
      "execution_count": null,
      "outputs": []
    },
    {
      "cell_type": "code",
      "source": [
        "# 🔧 Step 7: Alternative - CLI Mode (Optional)\n",
        "print(\"🔧 Alternative: Run in CLI mode\")\n",
        "print(\"If the web interface doesn't work, you can use CLI mode:\")\n",
        "print()\n",
        "\n",
        "# Uncomment the lines below to run in CLI mode instead\n",
        "# os.chdir('/content/Vector_DB_module and RGA_Module/RAG_Module')\n",
        "# !python app.py cli\n",
        "\n",
        "print(\"💡 To use CLI mode:\")\n",
        "print(\"   1. Uncomment the lines above\")\n",
        "print(\"   2. Run this cell\")\n",
        "print(\"   3. Follow the prompts to ask legal questions\")"
      ],
      "metadata": {
        "id": "cli-mode"
      },
      "execution_count": null,
      "outputs": []
    },
    {
      "cell_type": "code",
      "source": [
        "# 💾 Step 8: Save Results to Google Drive (Optional)\n",
        "import shutil\n",
        "from datetime import datetime\n",
        "\n",
        "print(\"💾 Saving results to Google Drive...\")\n",
        "\n",
        "# Create results directory in Google Drive\n",
        "timestamp = datetime.now().strftime(\"%Y%m%d_%H%M%S\")\n",
        "results_dir = f'/content/drive/MyDrive/Legal_AI_Results_{timestamp}'\n",
        "os.makedirs(results_dir, exist_ok=True)\n",
        "\n",
        "# Save any generated results\n",
        "project_dir = '/content/Vector_DB_module and RGA_Module'\n",
        "\n",
        "# Copy logs if they exist\n",
        "for log_file in ['app.log', 'rag_system.log', 'vector_db.log']:\n",
        "    log_path = os.path.join(project_dir, 'RAG_Module', log_file)\n",
        "    if os.path.exists(log_path):\n",
        "        shutil.copy2(log_path, results_dir)\n",
        "        print(f\"✅ Saved {log_file}\")\n",
        "\n",
        "# Save configuration files\n",
        "config_files = ['.env', 'RAG_Module/config.py', 'RAG_Module/rag_config.py']\n",
        "for config_file in config_files:\n",
        "    config_path = os.path.join(project_dir, config_file)\n",
        "    if os.path.exists(config_path):\n",
        "        shutil.copy2(config_path, results_dir)\n",
        "        print(f\"✅ Saved {config_file}\")\n",
        "\n",
        "print(f\"\\n💾 Results saved to: {results_dir}\")\n",
        "print(\"✅ Backup completed!\")"
      ],
      "metadata": {
        "id": "save-results"
      },
      "execution_count": null,
      "outputs": []
    },
    {
      "cell_type": "markdown",
      "source": [
        "## 🔧 Troubleshooting\n",
        "\n",
        "### Common Issues:\n",
        "\n",
        "1. **\"Zip file not found\"**\n",
        "   - Check the `ZIP_PATH` in Step 3\n",
        "   - Make sure you uploaded the zip file to Google Drive\n",
        "\n",
        "2. **\"API key errors\"**\n",
        "   - Update the API keys in Step 4\n",
        "   - Make sure your Pinecone account is active\n",
        "\n",
        "3. **\"App not starting\"**\n",
        "   - Wait longer (up to 30 seconds)\n",
        "   - Try restarting the runtime\n",
        "   - Check the error messages\n",
        "\n",
        "4. **\"ngrok tunnel failed\"**\n",
        "   - Try running Step 6 again\n",
        "   - Use CLI mode as alternative\n",
        "\n",
        "### Quick Fixes:\n",
        "```python\n",
        "# Restart everything\n",
        "!pkill -f streamlit\n",
        "!pkill -f python\n",
        "# Then re-run Step 6\n",
        "```\n",
        "\n",
        "### Memory Issues:\n",
        "- Runtime → Restart runtime\n",
        "- Edit → Clear all outputs\n",
        "- Use GPU runtime for better performance\n"
      ],
      "metadata": {
        "id": "troubleshooting"
      }
    }
  ]
}
